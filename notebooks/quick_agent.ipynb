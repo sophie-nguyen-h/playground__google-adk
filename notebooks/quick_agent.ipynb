{
 "cells": [
  {
   "cell_type": "markdown",
   "id": "9b61844e-54e9-434a-afe5-3c9d4a886ca5",
   "metadata": {},
   "source": [
    "# Quick agent notebook interactive version"
   ]
  },
  {
   "cell_type": "code",
   "execution_count": 1,
   "id": "3da1367d-ed64-4921-a402-e6b52ac58174",
   "metadata": {
    "tags": []
   },
   "outputs": [],
   "source": [
    "import sys\n",
    "sys.path.append(\"../quick_agent/agent/\")"
   ]
  },
  {
   "cell_type": "code",
   "execution_count": 2,
   "id": "b9f37c7f-1953-4d26-8055-f5749f76de27",
   "metadata": {
    "tags": []
   },
   "outputs": [
    {
     "data": {
      "text/plain": [
       "True"
      ]
     },
     "execution_count": 2,
     "metadata": {},
     "output_type": "execute_result"
    }
   ],
   "source": [
    "from agent import root_agent # get root_agent built from the python script\n",
    "from dotenv import load_dotenv\n",
    "load_dotenv(\"../quick_agent/agent/.env\") # get environment variables needed\n",
    "\n",
    "# Set up to run interactively\n",
    "import asyncio\n",
    "from google.adk.runners import Runner\n",
    "from google.adk.sessions import InMemorySessionService\n",
    "from google.genai import types\n",
    "\n",
    "session_service = InMemorySessionService()\n",
    "session = await session_service.create_session(app_name=APP_NAME, user_id=USER_ID, session_id=SESSION_ID)\n",
    "\n",
    "runner = Runner(app_name=APP_NAME, agent = root_agent, session_service=session_service)\n",
    "\n",
    "async def call_agent_async(query:str, runner, user_id, session_id):\n",
    "    \"\"\"Send a query to the agent and print final response\"\"\"\n",
    "    \n",
    "    print(f\"\\n>>>User request: {query}.\")\n",
    "    content = types.Content(role='user', parts= [types.Part(text=query)])\n",
    "    final_response = 'Agent did not produce a final response.'\n",
    "    \n",
    "    async for event in runner.run_async(user_id=user_id, session_id=session_id, new_message=content):\n",
    "        if event.is_final_response():\n",
    "            if event.content and event.content.parts:\n",
    "                final_response = event.content.parts[0].text\n",
    "            elif event.actions and event.actions.escalate:\n",
    "                final_response = f\"Agent escalate {event.error_message or 'No specific error message.'}\"\n",
    "            break\n",
    "    print(f\"<<< Agent response: {final_response}\")\n",
    "\n",
    "USER_ID = 'user_001'\n",
    "SESSION_ID = 'session_001'\n",
    "APP_NAME = 'quick_agent'"
   ]
  },
  {
   "cell_type": "code",
   "execution_count": 10,
   "id": "1b138046-5df6-457e-a87e-61f7d8b62f14",
   "metadata": {
    "tags": []
   },
   "outputs": [
    {
     "name": "stdout",
     "output_type": "stream",
     "text": [
      "\n",
      ">>>User request: hello.\n",
      "<<< Agent response: Hello! How can I help you with the weather today?\n",
      "\n",
      "\n",
      ">>>User request: what is the weather in new york?.\n"
     ]
    },
    {
     "name": "stderr",
     "output_type": "stream",
     "text": [
      "Warning: there are non-text parts in the response: ['function_call'], returning concatenated text result from text parts. Check the full candidates.content.parts accessor to get the full model response.\n"
     ]
    },
    {
     "name": "stdout",
     "output_type": "stream",
     "text": [
      "<<< Agent response: The temperature in New York is 85 Fahrenheit.\n",
      "\n",
      "\n",
      ">>>User request: what is the weather in DC?.\n"
     ]
    },
    {
     "name": "stderr",
     "output_type": "stream",
     "text": [
      "Warning: there are non-text parts in the response: ['function_call'], returning concatenated text result from text parts. Check the full candidates.content.parts accessor to get the full model response.\n"
     ]
    },
    {
     "name": "stdout",
     "output_type": "stream",
     "text": [
      "<<< Agent response: I am sorry, the weather information is not available for DC. Would you like me to check another city?\n",
      "\n",
      "\n",
      ">>>User request: what is the time in new york?.\n",
      "<<< Agent response: I am sorry, I can only provide weather information.\n",
      "\n"
     ]
    }
   ],
   "source": [
    "# Run interactively\n",
    "await call_agent_async('hello', runner, USER_ID, SESSION_ID)\n",
    "await call_agent_async('what is the weather in new york?', runner, USER_ID, SESSION_ID)\n",
    "await call_agent_async('what is the weather in DC?', runner, USER_ID, SESSION_ID)\n",
    "await call_agent_async('what is the time in new york?', runner, USER_ID, SESSION_ID)"
   ]
  },
  {
   "cell_type": "code",
   "execution_count": null,
   "id": "2526d9ab-8f58-4405-a325-4d0ea1f97072",
   "metadata": {},
   "outputs": [],
   "source": []
  }
 ],
 "metadata": {
  "kernelspec": {
   "display_name": "quick_agent",
   "language": "python",
   "name": "quick_agent"
  },
  "language_info": {
   "codemirror_mode": {
    "name": "ipython",
    "version": 3
   },
   "file_extension": ".py",
   "mimetype": "text/x-python",
   "name": "python",
   "nbconvert_exporter": "python",
   "pygments_lexer": "ipython3",
   "version": "3.12.2"
  }
 },
 "nbformat": 4,
 "nbformat_minor": 5
}
